{
 "cells": [
  {
   "cell_type": "markdown",
   "metadata": {},
   "source": [
    "# Portfolio Optimization Using Modern Portfolio Theory (MPT)\n",
    "\n",
    "This notebook uses forecasted and historical returns for TSLA, BND, and SPY to construct optimal portfolios using MPT.\n",
    "- TSLA: Expected return from forecast (Task 2)\n",
    "- BND & SPY: Historical annualized returns\n",
    "- Covariance matrix from historical returns\n",
    "- Efficient Frontier, Maximum Sharpe, Minimum Volatility portfolios\n    "
   ]
  },
  {
   "cell_type": "code",
   "metadata": {},
   "source": [
    "import yfinance as yf\n",
    "import numpy as np\n",
    "import pandas as pd\n",
    "import matplotlib.pyplot as plt\n",
    "from scipy.optimize import minimize\n",
    "\n",
    "np.random.seed(42)\n"
   ]
  },
  {
   "cell_type": "markdown",
   "metadata": {},
   "source": [
    "## 1. Load Data and Calculate Returns"
   ]
  },
  {
   "cell_type": "code",
   "metadata": {},
   "source": [
    "tickers = ['TSLA', 'BND', 'SPY']\n",
    "data = yf.download(tickers, start='2018-01-01', auto_adjust=True)['Close']\n",
    "returns = data.pct_change().dropna()\n",
    "annual_returns = returns.mean() * 252\n",
    "cov_matrix = returns.cov() * 252\n",
    "annual_returns"
   ]
  },
  {
   "cell_type": "markdown",
   "metadata": {},
   "source": [
    "## 2. Set Expected Returns\n",
    "- Use forecasted return for TSLA (replace below with your model's forecasted annual return)\n",
    "- Use historical annualized returns for BND, SPY"
   ]
  },
  {
   "cell_type": "code",
   "metadata": {},
   "source": [
    "# Replace with your best model's annualized forecast for TSLA\n",
    "tsla_expected = 0.18  # Example: 18% forecasted annual return\n",
    "expected_returns = annual_returns.copy()\n",
    "expected_returns['TSLA'] = tsla_expected\n",
    "expected_returns"
   ]
  },
  {
   "cell_type": "markdown",
   "metadata": {},
   "source": [
    "## 3. Efficient Frontier Simulation"
   ]
  },
  {
   "cell_type": "code",
   "metadata": {},
   "source": [
    "def portfolio_performance(weights, mean_returns, cov_matrix, rf=0.02):\n",
    "    returns = np.dot(weights, mean_returns)\n",
    "    volatility = np.sqrt(np.dot(weights.T, np.dot(cov_matrix, weights)))\n",
    "    sharpe = (returns - rf) / volatility\n",
    "    return returns, volatility, sharpe\n",
    "\n",
    "def simulate_portfolios(n, mean_returns, cov_matrix, rf=0.02):\n",
    "    results = np.zeros((n, 3 + len(mean_returns)))\n",
    "    for i in range(n):\n",
    "        weights = np.random.dirichlet(np.ones(len(mean_returns)), size=1)[0]\n",
    "        ret, vol, sharpe = portfolio_performance(weights, mean_returns, cov_matrix, rf)\n",
    "        results[i, :3] = [ret, vol, sharpe]\n",
    "        results[i, 3:] = weights\n",
    "    return results\n",
    "\n",
    "sim_results = simulate_portfolios(10000, expected_returns, cov_matrix)\n",
    "cols = ['Return', 'Volatility', 'Sharpe'] + tickers\n",
    "sim_df = pd.DataFrame(sim_results, columns=cols)\n",
    "sim_df.head()"
   ]
  },
  {
   "cell_type": "markdown",
   "metadata": {},
   "source": [
    "## 4. Optimize for Maximum Sharpe and Minimum Volatility"
   ]
  },
  {
   "cell_type": "code",
   "metadata": {},
   "source": [
    "def min_func_sharpe(weights, mean_returns, cov_matrix, rf=0.02):\n",
    "    return -portfolio_performance(weights, mean_returns, cov_matrix, rf)[2]\n",
    "def min_func_volatility(weights, mean_returns, cov_matrix):\n",
    "    return portfolio_performance(weights, mean_returns, cov_matrix)[1]\n",
    "num_assets = len(tickers)\n",
    "constraints = ({'type': 'eq', 'fun': lambda x: np.sum(x) - 1})\n",
    "bounds = tuple((0, 1) for _ in range(num_assets))\n",
    "init_guess = num_assets * [1. / num_assets,]\n",
    "max_sharpe = minimize(min_func_sharpe, init_guess, args=(expected_returns, cov_matrix), method='SLSQP', bounds=bounds, constraints=constraints)\n",
    "min_vol = minimize(min_func_volatility, init_guess, args=(expected_returns, cov_matrix), method='SLSQP', bounds=bounds, constraints=constraints)\n",
    "max_sharpe_w = max_sharpe.x\n",
    "min_vol_w = min_vol.x\n",
    "max_sharpe_perf = portfolio_performance(max_sharpe_w, expected_returns, cov_matrix)\n",
    "min_vol_perf = portfolio_performance(min_vol_w, expected_returns, cov_matrix)\n",
    "max_sharpe_w, max_sharpe_perf, min_vol_w, min_vol_perf"
   ]
  },
  {
   "cell_type": "markdown",
   "metadata": {},
   "source": [
    "## 5. Plot Efficient Frontier and Key Portfolios"
   ]
  },
  {
   "cell_type": "code",
   "metadata": {},
   "source": [
    "plt.figure(figsize=(12,8))\n",
    "plt.scatter(sim_df['Volatility'], sim_df['Return'], c=sim_df['Sharpe'], cmap='viridis', alpha=0.7)\n",
    "plt.colorbar(label='Sharpe Ratio')\n",
    "plt.scatter(max_sharpe_perf[1], max_sharpe_perf[0], marker='*', color='r', s=300, label='Max Sharpe')\n",
    "plt.scatter(min_vol_perf[1], min_vol_perf[0], marker='X', color='b', s=200, label='Min Volatility')\n",
    "plt.xlabel('Volatility (Risk)')\n",
    "plt.ylabel('Expected Return')\n",
    "plt.title('Efficient Frontier: TSLA, BND, SPY')\n",
    "plt.legend()\n",
    "plt.show()"
   ]
  },
  {
   "cell_type": "markdown",
   "metadata": {},
   "source": [
    "## 6. Final Portfolio Recommendation and Summary\n",
    "\n",
    "- **Max Sharpe Portfolio Weights:**\n",
    "    - TSLA: {max_sharpe_w[0]:.2f}\n",
    "    - BND: {max_sharpe_w[1]:.2f}\n",
    "    - SPY: {max_sharpe_w[2]:.2f}\n",
    "- **Expected Annual Return:** {max_sharpe_perf[0]:.2%}\n",
    "- **Annual Volatility:** {max_sharpe_perf[1]:.2%}\n",
    "- **Sharpe Ratio:** {max_sharpe_perf[2]:.2f}\n",
    "\n",
    "- **Minimum Volatility Portfolio Weights:**\n",
    "    - TSLA: {min_vol_w[0]:.2f}\n",
    "    - BND: {min_vol_w[1]:.2f}\n",
    "    - SPY: {min_vol_w[2]:.2f}\n",
    "- **Expected Annual Return:** {min_vol_perf[0]:.2%}\n",
    "- **Annual Volatility:** {min_vol_perf[1]:.2%}\n",
    "- **Sharpe Ratio:** {min_vol_perf[2]:.2f}\n",
    "\n",
    "**Recommendation:**\n",
    "Choose the portfolio that aligns with your risk tolerance and investment goals. For maximum risk-adjusted return, select the Max Sharpe portfolio. For lowest risk, select the Min Volatility portfolio.\n"
   ]
  }
 ],
 "metadata": {
  "kernelspec": {
   "display_name": "Python 3",
   "language": "python",
   "name": "python3"
  },
  "language_info": {
   "name": "python",
   "version": "3.8"
  }
 },
 "nbformat": 4,
 "nbformat_minor": 2
}
