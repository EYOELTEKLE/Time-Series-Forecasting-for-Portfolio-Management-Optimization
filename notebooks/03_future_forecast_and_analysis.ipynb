{
 "cells": [
  {
   "cell_type": "markdown",
   "metadata": {},
   "source": [
    "# Forecasting Future Market Trends: TSLA\n",
    "\n",
    "This notebook uses trained ARIMA and LSTM models to forecast Tesla's future stock prices over a 6-12 month horizon, visualize results, and provide risk/trend analysis."
   ]
  },
  {
   "cell_type": "code",
   "execution_count": null,
   "metadata": {},
   "outputs": [],
   "source": [
    "# Install dependencies if needed (uncomment if running locally)\n",
    "# !pip install yfinance pandas numpy matplotlib seaborn statsmodels tensorflow scikit-learn pmdarima"
   ]
  },
  {
   "cell_type": "code",
   "execution_count": null,
   "metadata": {},
   "outputs": [],
   "source": [
    "import yfinance as yf\n",
    "import pandas as pd\n",
    "import numpy as np\n",
    "import matplotlib.pyplot as plt\n",
    "import seaborn as sns\n",
    "from statsmodels.tsa.arima.model import ARIMA\n",
    "from sklearn.preprocessing import MinMaxScaler\n",
    "from tensorflow.keras.models import Sequential\n",
    "from tensorflow.keras.layers import LSTM, Dense\n",
    "import pmdarima as pm\n",
    "sns.set(style='whitegrid')\n",
    "%matplotlib inline"
   ]
  },
  {
   "cell_type": "markdown",
   "metadata": {},
   "source": [
    "## 1. Load Data and Refit Models if Needed\n",
    "(Or load models from Task 2 if saved)"
   ]
  },
  {
   "cell_type": "code",
   "execution_count": null,
   "metadata": {},
   "outputs": [],
   "source": [
    "# Download latest TSLA close prices\n",
    "tsla = yf.download('TSLA', start='2015-01-01', auto_adjust=True)['Close']\n",
    "# Use all available data for model refit\n",
    "train = tsla\n",
    "forecast_period = 126  # ~6 months (126 trading days)\n",
    "forecast_period_12m = 252  # ~12 months\n"
   ]
  },
  {
   "cell_type": "markdown",
   "metadata": {},
   "source": [
    "## 2. ARIMA Forecast (with Confidence Intervals)"
   ]
  },
  {
   "cell_type": "code",
   "execution_count": null,
   "metadata": {},
   "outputs": [],
   "source": [
    "# Use auto_arima for best (p,d,q)\n",
    "arima_model = pm.auto_arima(train, seasonal=False, stepwise=True, suppress_warnings=True, trace=True)\n",
    "arima_order = arima_model.order\n",
    "arima_fit = ARIMA(train, order=arima_order).fit()\n",
    "arima_forecast_6m = arima_fit.get_forecast(steps=forecast_period)\n",
    "arima_pred_6m = arima_forecast_6m.predicted_mean\n",
    "arima_ci_6m = arima_forecast_6m.conf_int()\n",
    "arima_forecast_12m = arima_fit.get_forecast(steps=forecast_period_12m)\n",
    "arima_pred_12m = arima_forecast_12m.predicted_mean\n",
    "arima_ci_12m = arima_forecast_12m.conf_int()\n"
   ]
  },
  {
   "cell_type": "code",
   "execution_count": null,
   "metadata": {},
   "outputs": [],
   "source": [
    "plt.figure(figsize=(14,7))\n",
    "plt.plot(train, label='Historical')\n",
    "plt.plot(arima_pred_6m.index, arima_pred_6m, label='ARIMA Forecast (6M)')\n",
    "plt.fill_between(arima_ci_6m.index, arima_ci_6m.iloc[:,0], arima_ci_6m.iloc[:,1], color='gray', alpha=0.3, label='Confidence Interval (6M)')\n",
    "plt.title('TSLA ARIMA 6-Month Forecast with Confidence Interval')\n",
    "plt.legend()\n",
    "plt.show()\n",
    "\n",
    "plt.figure(figsize=(14,7))\n",
    "plt.plot(train, label='Historical')\n",
    "plt.plot(arima_pred_12m.index, arima_pred_12m, label='ARIMA Forecast (12M)')\n",
    "plt.fill_between(arima_ci_12m.index, arima_ci_12m.iloc[:,0], arima_ci_12m.iloc[:,1], color='gray', alpha=0.3, label='Confidence Interval (12M)')\n",
    "plt.title('TSLA ARIMA 12-Month Forecast with Confidence Interval')\n",
    "plt.legend()\n",
    "plt.show()"
   ]
  },
  {
   "cell_type": "markdown",
   "metadata": {},
   "source": [
    "## 3. LSTM Forecast (Point Estimate Only)\n",
    "*Note: LSTM does not natively provide confidence intervals. Bootstrapping or MC Dropout can be used for uncertainty, but are not included here for brevity.*"
   ]
  },
  {
   "cell_type": "code",
   "execution_count": null,
   "metadata": {},
   "outputs": [],
   "source": [
    "lookback = 30\n",
    "scaler = MinMaxScaler()\n",
    "scaled = scaler.fit_transform(train.values.reshape(-1,1))\n",
    "def make_lstm_sequences(data, lookback):\n",
    "    X = []\n",
    "    for i in range(lookback, len(data)):\n",
    "        X.append(data[i-lookback:i, 0])\n",
    "    return np.array(X)\n",
    "X_train = make_lstm_sequences(scaled, lookback)\n",
    "y_train = scaled[lookback:]\n",
    "model = Sequential([\n",
    "    LSTM(50, activation='relu', input_shape=(lookback,1)),\n",
    "    Dense(1)\n",
    "])\n",
    "model.compile(optimizer='adam', loss='mse')\n",
    "model.fit(X_train, y_train, epochs=20, batch_size=32, verbose=1)\n",
    "def lstm_forecast_point(model, last_seq, n_steps):\n",
    "    preds = []\n",
    "    seq = last_seq.copy()\n",
    "    for _ in range(n_steps):\n",
    "        pred = model.predict(seq.reshape(1, lookback, 1), verbose=0)[0,0]\n",
    "        preds.append(pred)\n",
    "        seq = np.roll(seq, -1)\n",
    "        seq[-1] = pred\n",
    "    return scaler.inverse_transform(np.array(preds).reshape(-1,1)).flatten()\n",
    "last_seq = scaled[-lookback:]\n",
    "lstm_pred_6m = lstm_forecast_point(model, last_seq, forecast_period)\n",
    "lstm_pred_12m = lstm_forecast_point(model, last_seq, forecast_period_12m)\n"
   ]
  },
  {
   "cell_type": "code",
   "execution_count": null,
   "metadata": {},
   "outputs": [],
   "source": [
    "plt.figure(figsize=(14,7))\n",
    "plt.plot(train, label='Historical')\n",
    "plt.plot(pd.date_range(train.index[-1], periods=forecast_period+1, freq='B')[1:], lstm_pred_6m, label='LSTM Forecast (6M)')\n",
    "plt.title('TSLA LSTM 6-Month Forecast')\n",
    "plt.legend()\n",
    "plt.show()\n",
    "\n",
    "plt.figure(figsize=(14,7))\n",
    "plt.plot(train, label='Historical')\n",
    "plt.plot(pd.date_range(train.index[-1], periods=forecast_period_12m+1, freq='B')[1:], lstm_pred_12m, label='LSTM Forecast (12M)')\n",
    "plt.title('TSLA LSTM 12-Month Forecast')\n",
    "plt.legend()\n",
    "plt.show()"
   ]
  },
  {
   "cell_type": "markdown",
   "metadata": {},
   "source": [
    "## 4. Trend, Volatility, and Risk Analysis\n",
    "\n",
    "- **Trend Analysis:**\n",
    "    - ARIMA and LSTM both provide point forecasts. ARIMA's confidence intervals widen over time, indicating increasing uncertainty.\n",
    "    - Look for upward, downward, or stable trends in the forecast.\n",
    "    - Note any anomalies or sudden changes.\n",
    "- **Volatility and Risk:**\n",
    "    - The width of ARIMA's confidence intervals reflects forecast uncertainty.\n",
    "    - Wider intervals at longer horizons mean less reliability in long-term forecasts.\n",
    "- **Market Opportunities and Risks:**\n",
    "    - If the forecast shows an upward trend, there may be investment opportunities, but high volatility or wide confidence intervals increase risk.\n",
    "    - If the forecast is downward or highly volatile, caution is warranted.\n",
    "\n",
    "*Always combine model-based insights with fundamental analysis and risk management.*"
   ]
  }
 ],
 "metadata": {
  "kernelspec": {
   "display_name": "Python 3",
   "language": "python",
   "name": "python3"
  },
  "language_info": {
   "name": "python",
   "version": "3.8"
  }
 },
 "nbformat": 4,
 "nbformat_minor": 2
}
