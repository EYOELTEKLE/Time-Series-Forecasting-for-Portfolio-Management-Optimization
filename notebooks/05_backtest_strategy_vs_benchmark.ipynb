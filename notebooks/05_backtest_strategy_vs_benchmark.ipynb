{
 "cells": [
  {
   "cell_type": "markdown",
   "metadata": {},
   "source": [
    "# Backtesting Model-Driven Portfolio vs. Benchmark\n",
    "\n",
    "This notebook simulates the performance of your optimized portfolio (from Task 4) and compares it to a static 60% SPY / 40% BND benchmark over the last year of available data."
   ]
  },
  {
   "cell_type": "code",
   "metadata": {},
   "source": [
    "import yfinance as yf\n",
    "import numpy as np\n",
    "import pandas as pd\n",
    "import matplotlib.pyplot as plt\n",
    "\n",
    "from datetime import datetime, timedelta\n"
   ]
  },
  {
   "cell_type": "markdown",
   "metadata": {},
   "source": [
    "## 1. Define Backtest Period and Download Data"
   ]
  },
  {
   "cell_type": "code",
   "metadata": {},
   "source": [
    "end_date = pd.to_datetime('2025-07-31')\n",
    "start_date = end_date - pd.DateOffset(years=1)\n",
    "tickers = ['TSLA', 'BND', 'SPY']\n",
    "prices = yf.download(tickers, start=start_date, end=end_date, auto_adjust=True)['Close']\n",
    "returns = prices.pct_change().dropna()\n",
    "returns.head()"
   ]
  },
  {
   "cell_type": "markdown",
   "metadata": {},
   "source": [
    "## 2. Define Portfolios: Model-Driven and Benchmark\n",
    "- Use optimal weights from Task 4 for your strategy (replace below).\n",
    "- Benchmark: 60% SPY, 40% BND."
   ]
  },
  {
   "cell_type": "code",
   "metadata": {},
   "source": [
    "# Replace with your actual optimal weights from Task 4\n",
    "strategy_weights = np.array([0.25, 0.35, 0.40])  # [TSLA, BND, SPY] example\n",
    "benchmark_weights = np.array([0.0, 0.4, 0.6])    # [TSLA, BND, SPY]\n",
    "\n",
    "strategy_returns = (returns * strategy_weights).sum(axis=1)\n",
    "benchmark_returns = (returns * benchmark_weights).sum(axis=1)\n",
    "\n",
    "strategy_cum = (1 + strategy_returns).cumprod()\n",
    "benchmark_cum = (1 + benchmark_returns).cumprod()\n",
    "\n",
    "strategy_cum.plot(label='Model-Driven Portfolio', figsize=(12,6))\n",
    "benchmark_cum.plot(label='60/40 Benchmark')\n",
    "plt.title('Cumulative Returns: Model-Driven vs. Benchmark')\n",
    "plt.ylabel('Growth of $1')\n",
    "plt.legend()\n",
    "plt.show()"
   ]
  },
  {
   "cell_type": "markdown",
   "metadata": {},
   "source": [
    "## 3. Analyze Performance: Sharpe Ratio and Total Return"
   ]
  },
  {
   "cell_type": "code",
   "metadata": {},
   "source": [
    "def sharpe_ratio(returns, rf=0.02/252):\n",
    "    excess = returns - rf\n",
    "    return (excess.mean() / returns.std()) * np.sqrt(252)\n",
    "\n",
    "strategy_total_return = strategy_cum.iloc[-1] - 1\n",
    "benchmark_total_return = benchmark_cum.iloc[-1] - 1\n",
    "strategy_sharpe = sharpe_ratio(strategy_returns)\n",
    "benchmark_sharpe = sharpe_ratio(benchmark_returns)\n",
    "print(f'Strategy Total Return: {strategy_total_return:.2%}, Sharpe: {strategy_sharpe:.2f}')\n",
    "print(f'Benchmark Total Return: {benchmark_total_return:.2%}, Sharpe: {benchmark_sharpe:.2f}')"
   ]
  },
  {
   "cell_type": "markdown",
   "metadata": {},
   "source": [
    "## 4. Conclusion\n",
    "- Did your strategy outperform the benchmark?\n",
    "- What does this suggest about the viability of your model-driven approach?\n    "
   ]
  }
 ],
 "metadata": {
  "kernelspec": {
   "display_name": "Python 3",
   "language": "python",
   "name": "python3"
  },
  "language_info": {
   "name": "python",
   "version": "3.8"
  }
 },
 "nbformat": 4,
 "nbformat_minor": 2
}
